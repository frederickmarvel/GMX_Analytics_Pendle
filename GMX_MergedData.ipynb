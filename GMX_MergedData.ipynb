{
  "nbformat": 4,
  "nbformat_minor": 0,
  "metadata": {
    "colab": {
      "provenance": []
    },
    "kernelspec": {
      "name": "python3",
      "display_name": "Python 3"
    },
    "language_info": {
      "name": "python"
    }
  },
  "cells": [
    {
      "cell_type": "code",
      "execution_count": 11,
      "metadata": {
        "id": "sTSsUGE6xTSq"
      },
      "outputs": [],
      "source": [
        "import pandas as pd\n",
        "import numpy as np"
      ]
    },
    {
      "cell_type": "code",
      "source": [
        "df1 = pd.read_csv('APR_AllTime.csv')\n",
        "df2 = pd.read_csv('Fees_AllTime.csv')"
      ],
      "metadata": {
        "id": "u4-4xnnixdPf"
      },
      "execution_count": 12,
      "outputs": []
    },
    {
      "cell_type": "code",
      "source": [
        "merged_df = pd.merge(df1, df2, on='Date', how='outer')"
      ],
      "metadata": {
        "id": "UZOJbwRgx8Um"
      },
      "execution_count": 13,
      "outputs": []
    },
    {
      "cell_type": "markdown",
      "source": [],
      "metadata": {
        "id": "BD6hfOA3xxl-"
      }
    },
    {
      "cell_type": "code",
      "source": [
        "merged_df.to_csv('gmx_merged_data.csv',index=False)"
      ],
      "metadata": {
        "id": "lWQpMI7jy7Qn"
      },
      "execution_count": 15,
      "outputs": []
    },
    {
      "cell_type": "code",
      "source": [
        "print(merged_df.head())"
      ],
      "metadata": {
        "colab": {
          "base_uri": "https://localhost:8080/"
        },
        "id": "MWdxF1zszmf3",
        "outputId": "9d69f66f-2672-45e4-835c-d64f0cf7943c"
      },
      "execution_count": 17,
      "outputs": [
        {
          "output_type": "stream",
          "name": "stdout",
          "text": [
            "         Date         APR         Swap  Margin trading     Mint GLP  \\\n",
            "0  2021-08-31    3.259302     0.399321        0.153256     0.118304   \n",
            "1  2021-09-01  168.435823   866.365339      101.848845  4843.226667   \n",
            "2  2021-09-02   58.405269   854.002762      741.708859  1610.527787   \n",
            "3  2021-09-03   78.075783  1388.241363     3127.266851    22.380404   \n",
            "4  2021-09-04   17.908395   219.024733      768.756821    82.883759   \n",
            "\n",
            "     Burn GLP  Liquidation    Cumulative  \n",
            "0    0.206160          0.0      0.877041  \n",
            "1    0.033713          0.0   5812.351605  \n",
            "2  134.264965          0.0   9152.855978  \n",
            "3    0.000000          0.0  13690.744595  \n",
            "4    0.000000          0.0  14761.409908  \n"
          ]
        }
      ]
    }
  ]
}